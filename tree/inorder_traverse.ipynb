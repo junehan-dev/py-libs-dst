{
 "cells": [
  {
   "cell_type": "code",
   "execution_count": 9,
   "id": "358bbb94",
   "metadata": {},
   "outputs": [],
   "source": [
    "import sys, os\n",
    "sys.path.append(os.path.abspath(os.path.join('..', '')))\n",
    "from visualizer import render\n",
    "from visualizer import render\n",
    "from tree_node import TreeNode\n",
    "from create_bfs import create_tree"
   ]
  },
  {
   "cell_type": "code",
   "execution_count": 10,
   "id": "9154bdf3",
   "metadata": {},
   "outputs": [],
   "source": [
    "# %load traverse\n",
    "from tree_node import TreeNode\n",
    "\n",
    "def inorder_traverse(root: TreeNode):\n",
    "    if root is None:\n",
    "        return [];\n",
    "    ret = [];\n",
    "    ret += (inorder_traverse(root.left));\n",
    "    ret += ([root.value]);\n",
    "    ret += (inorder_traverse(root.right));\n",
    "    print(\"goto successor, \", root.value);\n",
    "    return ret;\n",
    "    \n"
   ]
  },
  {
   "cell_type": "code",
   "execution_count": 11,
   "id": "fa3787a7",
   "metadata": {},
   "outputs": [],
   "source": [
    "bst = create_tree([10,5,15,2,6,12,17,1,None,None,8]);"
   ]
  },
  {
   "cell_type": "code",
   "execution_count": 12,
   "id": "84fe5672",
   "metadata": {},
   "outputs": [
    {
     "data": {
      "image/png": "[encoded data removed]",
      "text/plain": [
       "<IPython.core.display.Image object>"
      ]
     },
     "metadata": {},
     "output_type": "display_data"
    }
   ],
   "source": [
    "render(bst)"
   ]
  },
  {
   "cell_type": "code",
   "execution_count": 13,
   "id": "4c9c39d0",
   "metadata": {},
   "outputs": [
    {
     "name": "stdout",
     "output_type": "stream",
     "text": [
      "goto successor,  1\n",
      "goto successor,  2\n",
      "goto successor,  8\n",
      "goto successor,  6\n",
      "goto successor,  5\n",
      "goto successor,  12\n",
      "goto successor,  17\n",
      "goto successor,  15\n",
      "goto successor,  10\n",
      "[1, 2, 5, 6, 8, 10, 12, 15, 17]\n"
     ]
    }
   ],
   "source": [
    "ret = inorder_traverse(bst);\n",
    "print(ret);"
   ]
  },
  {
   "cell_type": "code",
   "execution_count": null,
   "id": "68163650",
   "metadata": {},
   "outputs": [],
   "source": []
  },
  {
   "cell_type": "code",
   "execution_count": null,
   "id": "637ff5c9",
   "metadata": {},
   "outputs": [],
   "source": []
  },
  {
   "cell_type": "code",
   "execution_count": null,
   "id": "b79834fb",
   "metadata": {},
   "outputs": [],
   "source": []
  }
 ],
 "metadata": {
  "kernelspec": {
   "display_name": "Python 3",
   "language": "python",
   "name": "python3"
  },
  "language_info": {
   "codemirror_mode": {
    "name": "ipython",
    "version": 3
   },
   "file_extension": ".py",
   "mimetype": "text/x-python",
   "name": "python",
   "nbconvert_exporter": "python",
   "pygments_lexer": "ipython3",
   "version": "3.10.2"
  }
 },
 "nbformat": 4,
 "nbformat_minor": 5
}
