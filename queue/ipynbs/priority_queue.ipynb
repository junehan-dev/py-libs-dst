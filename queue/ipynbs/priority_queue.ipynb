{
 "cells": [
  {
   "cell_type": "code",
   "execution_count": null,
   "id": "aaa93759",
   "metadata": {},
   "outputs": [],
   "source": []
  },
  {
   "cell_type": "code",
   "execution_count": 31,
   "id": "58a87ee4",
   "metadata": {},
   "outputs": [],
   "source": [
    "class MaxPQ:\n",
    "    def __init__(self):\n",
    "        self._keys = [None];\n",
    "\n",
    "    def max(self):\n",
    "        return self._keys[1] if len(self._keys) > 1 else None;\n",
    "\n",
    "    def insert(self, x):\n",
    "        self._keys.append(x);\n",
    "        self._evaporate();\n",
    "\n",
    "    def delMax(self):\n",
    "        self._swap(1, -1);\n",
    "        ret = self._keys.pop();\n",
    "        self._sink(1);\n",
    "        return (ret);\n",
    "\n",
    "    def isEmpty(self):\n",
    "        return (True if len(self._keys) == 1 else False);\n",
    "\n",
    "    def size(self):\n",
    "        return (len(self._keys) - 1);\n",
    "   \n",
    "    def _evaporate(self):\n",
    "        child = len(self._keys) - 1;\n",
    "        parent = child // 2;\n",
    "        while (parent > 0 and self._keys[parent] < self._keys[child]):\n",
    "            self._swap(parent, child);\n",
    "            child = parent;\n",
    "            parent //= 2;\n",
    "\n",
    "    def _sink(self, parent):\n",
    "        l = parent * 2 if len(self._keys) - 1 >= parent * 2 else None; \n",
    "        r = parent * 2 + 1 if len(self._keys) - 1 >= parent * 2 + 1 else None;\n",
    "        if l is None and r is None:\n",
    "            return None;\n",
    "    \n",
    "        child = r if r is not None and self._keys[r] >= self._keys[l] else l;\n",
    "        if self._keys[child] > self._keys[parent]:\n",
    "            self._swap(parent, child);\n",
    "            self._sink(child);\n",
    "\n",
    "    def _swap(self, i1, i2):\n",
    "        self._keys[i1], self._keys[i2]  = self._keys[i2], self._keys[i1];\n"
   ]
  },
  {
   "cell_type": "code",
   "execution_count": 32,
   "id": "6435089c",
   "metadata": {},
   "outputs": [],
   "source": [
    "def stat_pq(mpq):\n",
    "    print(\"size: \", mpq.size());\n",
    "    print(\"isempty?: \", mpq.isEmpty());\n",
    "    if not mpq.isEmpty():\n",
    "        print(\"Max is :\", mpq.max());\n"
   ]
  },
  {
   "cell_type": "code",
   "execution_count": 33,
   "id": "09d0faff",
   "metadata": {},
   "outputs": [
    {
     "name": "stdout",
     "output_type": "stream",
     "text": [
      "size:  0\n",
      "isempty?:  True\n",
      "size:  1\n",
      "isempty?:  False\n",
      "Max is : 1\n"
     ]
    }
   ],
   "source": [
    "test = MaxPQ();\n",
    "stat_pq(test);\n",
    "test.insert(1);\n",
    "stat_pq(test);\n"
   ]
  },
  {
   "cell_type": "code",
   "execution_count": null,
   "id": "534527e6",
   "metadata": {},
   "outputs": [],
   "source": []
  },
  {
   "cell_type": "code",
   "execution_count": 34,
   "id": "d71e0184",
   "metadata": {},
   "outputs": [
    {
     "data": {
      "text/plain": [
       "[None, 1]"
      ]
     },
     "execution_count": 34,
     "metadata": {},
     "output_type": "execute_result"
    }
   ],
   "source": [
    "test._keys"
   ]
  },
  {
   "cell_type": "code",
   "execution_count": 35,
   "id": "d8b30a19",
   "metadata": {},
   "outputs": [],
   "source": [
    "for i in range(30, 40):\n",
    "    test.insert(i);\n",
    "for i in range(50, 20):\n",
    "    test.insert(i);"
   ]
  },
  {
   "cell_type": "code",
   "execution_count": 36,
   "id": "19ad8bae",
   "metadata": {},
   "outputs": [
    {
     "data": {
      "text/plain": [
       "[None, 39, 38, 34, 35, 37, 30, 33, 1, 32, 31, 36]"
      ]
     },
     "execution_count": 36,
     "metadata": {},
     "output_type": "execute_result"
    }
   ],
   "source": [
    "test._keys"
   ]
  },
  {
   "cell_type": "code",
   "execution_count": 37,
   "id": "44a4cc2d",
   "metadata": {},
   "outputs": [
    {
     "name": "stdout",
     "output_type": "stream",
     "text": [
      "39\n",
      "38\n",
      "37\n",
      "36\n",
      "35\n",
      "34\n",
      "33\n",
      "32\n",
      "31\n",
      "30\n",
      "1\n"
     ]
    }
   ],
   "source": [
    "while len(test._keys) != 1:\n",
    "    ret = test.delMax();\n",
    "    print(ret);"
   ]
  },
  {
   "cell_type": "code",
   "execution_count": 137,
   "id": "a995cdb9",
   "metadata": {},
   "outputs": [
    {
     "data": {
      "text/plain": [
       "[None]"
      ]
     },
     "execution_count": 137,
     "metadata": {},
     "output_type": "execute_result"
    }
   ],
   "source": [
    "test._datas"
   ]
  },
  {
   "cell_type": "code",
   "execution_count": null,
   "id": "bda4cdac",
   "metadata": {},
   "outputs": [],
   "source": []
  },
  {
   "cell_type": "code",
   "execution_count": null,
   "id": "eafc1c40",
   "metadata": {},
   "outputs": [],
   "source": []
  },
  {
   "cell_type": "code",
   "execution_count": null,
   "id": "8892a903",
   "metadata": {},
   "outputs": [],
   "source": []
  }
 ],
 "metadata": {
  "kernelspec": {
   "display_name": "Python 3",
   "language": "python",
   "name": "python3"
  },
  "language_info": {
   "codemirror_mode": {
    "name": "ipython",
    "version": 3
   },
   "file_extension": ".py",
   "mimetype": "text/x-python",
   "name": "python",
   "nbconvert_exporter": "python",
   "pygments_lexer": "ipython3",
   "version": "3.10.2"
  }
 },
 "nbformat": 4,
 "nbformat_minor": 5
}
