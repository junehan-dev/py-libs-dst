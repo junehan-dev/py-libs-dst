{
 "cells": [
  {
   "cell_type": "code",
   "execution_count": 8,
   "id": "58a87ee4",
   "metadata": {},
   "outputs": [
    {
     "name": "stdout",
     "output_type": "stream",
     "text": [
      "5\n",
      "01\n",
      "12\n",
      "23\n",
      "30\n",
      "1\n",
      "40\n",
      "2\n"
     ]
    }
   ],
   "source": [
    "class MinHeap:\n",
    "    def __init__(self):\n",
    "        self._keys = [None];\n",
    "\n",
    "    def insert(self, x):\n",
    "        self._keys.append(x);\n",
    "        self._evaporate();\n",
    "\n",
    "    def delMin(self):\n",
    "        self._swap(1, -1);\n",
    "        ret = self._keys.pop();\n",
    "        self._sink(1);\n",
    "        return (ret);\n",
    "\n",
    "    def _evaporate(self):\n",
    "        child = len(self._keys) - 1;\n",
    "        parent = child // 2;\n",
    "        while (parent > 0 and self._keys[parent] > self._keys[child]):\n",
    "            self._swap(parent, child);\n",
    "            child = parent;\n",
    "            parent //= 2;\n",
    "\n",
    "    def _sink(self, parent):\n",
    "        if len(self._keys) - 1 < parent * 2:\n",
    "                return None;\n",
    "        l = parent * 2; \n",
    "        r = parent * 2 + 1 if len(self._keys) - 1 >= parent * 2 + 1 else None;\n",
    "        child = r if r is not None and self._keys[r] <= self._keys[l] else l;\n",
    "        if self._keys[child] < self._keys[parent]:\n",
    "            self._swap(parent, child);\n",
    "            self._sink(child);\n",
    "\n",
    "    def _swap(self, i1, i2):\n",
    "        self._keys[i1], self._keys[i2]  = self._keys[i2], self._keys[i1];\n",
    "\n",
    "mh = MinHeap();\n",
    "for _ in (range(int(input()))):\n",
    "    cmd = int(input());\n",
    "    mh.insert(cmd) if cmd else print(mh.delMin());"
   ]
  },
  {
   "cell_type": "code",
   "execution_count": 7,
   "id": "89b0309c",
   "metadata": {},
   "outputs": [
    {
     "name": "stdout",
     "output_type": "stream",
     "text": [
      "3\n",
      "05\n",
      "134\n",
      "21\n"
     ]
    },
    {
     "data": {
      "text/plain": [
       "[None, None, None]"
      ]
     },
     "execution_count": 7,
     "metadata": {},
     "output_type": "execute_result"
    }
   ],
   "source": [
    "\n",
    "n = int(input());\n",
    "mh = MinHeap();\n",
    "cmd_iter = (int(input(_)) for _ in range(n))\n",
    "[mh.insert(cmd)if cmd != 0 else print(mh.delMin()) for cmd in cmd_iter]"
   ]
  },
  {
   "cell_type": "markdown",
   "id": "f2109678",
   "metadata": {},
   "source": [
    "###### %\n",
    "test = MinHeap();\n",
    "test.find_min()\n"
   ]
  },
  {
   "cell_type": "code",
   "execution_count": 20,
   "id": "09d0faff",
   "metadata": {},
   "outputs": [],
   "source": [
    "for i in range(3):\n",
    "    test.enqueue(i);"
   ]
  },
  {
   "cell_type": "code",
   "execution_count": 21,
   "id": "534527e6",
   "metadata": {},
   "outputs": [
    {
     "data": {
      "text/plain": [
       "0"
      ]
     },
     "execution_count": 21,
     "metadata": {},
     "output_type": "execute_result"
    }
   ],
   "source": [
    "test.find_min()"
   ]
  },
  {
   "cell_type": "code",
   "execution_count": 24,
   "id": "d71e0184",
   "metadata": {},
   "outputs": [
    {
     "data": {
      "text/plain": [
       "[None,\n",
       " 0,\n",
       " 1,\n",
       " 30,\n",
       " 33,\n",
       " 2,\n",
       " 31,\n",
       " 33,\n",
       " 35,\n",
       " 37,\n",
       " 31,\n",
       " 30,\n",
       " 31,\n",
       " 32,\n",
       " 34,\n",
       " 34,\n",
       " 37,\n",
       " 36,\n",
       " 38,\n",
       " 38,\n",
       " 39,\n",
       " 39,\n",
       " 34,\n",
       " 30,\n",
       " 35,\n",
       " 32,\n",
       " 32,\n",
       " 33,\n",
       " 36,\n",
       " 35,\n",
       " 36,\n",
       " 37,\n",
       " 38,\n",
       " 39]"
      ]
     },
     "execution_count": 24,
     "metadata": {},
     "output_type": "execute_result"
    }
   ],
   "source": [
    "test._datas"
   ]
  },
  {
   "cell_type": "code",
   "execution_count": 23,
   "id": "d8b30a19",
   "metadata": {},
   "outputs": [],
   "source": [
    "for i in range(30, 40):\n",
    "    test.enqueue(i);\n",
    "for i in range(50, 20):\n",
    "    test.enqueue(i);"
   ]
  },
  {
   "cell_type": "code",
   "execution_count": 19,
   "id": "19ad8bae",
   "metadata": {},
   "outputs": [
    {
     "data": {
      "text/plain": [
       "[None,\n",
       " 30,\n",
       " 30,\n",
       " 31,\n",
       " 33,\n",
       " 31,\n",
       " 32,\n",
       " 33,\n",
       " 35,\n",
       " 37,\n",
       " 39,\n",
       " 34,\n",
       " 35,\n",
       " 32,\n",
       " 36,\n",
       " 34,\n",
       " 37,\n",
       " 36,\n",
       " 38,\n",
       " 38,\n",
       " 39]"
      ]
     },
     "execution_count": 19,
     "metadata": {},
     "output_type": "execute_result"
    }
   ],
   "source": [
    "test._datas"
   ]
  },
  {
   "cell_type": "code",
   "execution_count": 25,
   "id": "44a4cc2d",
   "metadata": {},
   "outputs": [
    {
     "name": "stdout",
     "output_type": "stream",
     "text": [
      "0\n",
      "1\n",
      "2\n",
      "30\n",
      "30\n",
      "30\n",
      "31\n",
      "31\n",
      "31\n",
      "32\n",
      "32\n",
      "32\n",
      "33\n",
      "33\n",
      "33\n",
      "34\n",
      "34\n",
      "34\n",
      "35\n",
      "35\n",
      "35\n",
      "36\n",
      "36\n",
      "36\n",
      "37\n",
      "37\n",
      "37\n",
      "38\n",
      "38\n",
      "38\n",
      "39\n",
      "39\n",
      "39\n"
     ]
    }
   ],
   "source": [
    "while len(test._datas) != 1:\n",
    "    ret = test.dequeue();\n",
    "    print(ret);"
   ]
  },
  {
   "cell_type": "code",
   "execution_count": 137,
   "id": "a995cdb9",
   "metadata": {},
   "outputs": [
    {
     "data": {
      "text/plain": [
       "[None]"
      ]
     },
     "execution_count": 137,
     "metadata": {},
     "output_type": "execute_result"
    }
   ],
   "source": [
    "test._datas"
   ]
  },
  {
   "cell_type": "code",
   "execution_count": null,
   "id": "bda4cdac",
   "metadata": {},
   "outputs": [],
   "source": []
  },
  {
   "cell_type": "code",
   "execution_count": null,
   "id": "eafc1c40",
   "metadata": {},
   "outputs": [],
   "source": []
  },
  {
   "cell_type": "code",
   "execution_count": null,
   "id": "8892a903",
   "metadata": {},
   "outputs": [],
   "source": []
  }
 ],
 "metadata": {
  "kernelspec": {
   "display_name": "Python 3",
   "language": "python",
   "name": "python3"
  },
  "language_info": {
   "codemirror_mode": {
    "name": "ipython",
    "version": 3
   },
   "file_extension": ".py",
   "mimetype": "text/x-python",
   "name": "python",
   "nbconvert_exporter": "python",
   "pygments_lexer": "ipython3",
   "version": "3.10.2"
  }
 },
 "nbformat": 4,
 "nbformat_minor": 5
}
